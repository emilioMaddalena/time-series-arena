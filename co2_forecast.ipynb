{
 "cells": [
  {
   "cell_type": "code",
   "execution_count": 13,
   "metadata": {},
   "outputs": [],
   "source": [
    "import warnings\n",
    "from pathlib import Path\n",
    "\n",
    "import matplotlib.pyplot as plt\n",
    "import pandas as pd\n",
    "import seaborn as sns\n",
    "import statsmodels.api as sm\n",
    "from sklearn.model_selection import train_test_split\n"
   ]
  },
  {
   "cell_type": "code",
   "execution_count": 14,
   "metadata": {},
   "outputs": [],
   "source": [
    "# Load time series\n",
    "dataset_name = \"co2_emissions_coal\"\n",
    "dataset_folder = \"datasets\"\n",
    "value_column = \"Emissions [MMT]\"\n",
    "\n",
    "df = pd.read_csv(Path(dataset_folder) / dataset_name / f\"{dataset_name}.csv\", index_col=\"YYYYMM\") \n",
    "ts = df[value_column]\n",
    "ts.index = pd.to_datetime(ts.index)\n",
    "\n",
    "# Split the series into training and test sets\n",
    "train, test = train_test_split(ts, test_size=0.3, shuffle=False)"
   ]
  },
  {
   "cell_type": "code",
   "execution_count": 21,
   "metadata": {},
   "outputs": [],
   "source": [
    "def grid_search_arima(train_data, p_values, d_values, q=1):\n",
    "    \"\"\"Perform a grid search for ARIMA parameters and return the best model.\"\"\"\n",
    "    warnings.filterwarnings(\"ignore\")\n",
    "    results = []\n",
    "\n",
    "    # Loop over p and d values\n",
    "    for p in p_values:\n",
    "        for d in d_values:\n",
    "            try:\n",
    "                # Fit the ARIMA model\n",
    "                model = sm.tsa.ARIMA(train_data, order=(p, d, q))\n",
    "                model_fit = model.fit()\n",
    "                # Collect the log likelihood\n",
    "                log_likelihood = model_fit.llf\n",
    "                results.append((p, d, log_likelihood))\n",
    "            except Exception as e:\n",
    "                print(f\"Failed to fit ARIMA({p}, {d}, {q}): {e}\")\n",
    "                results.append((p, d, -float('inf')))\n",
    "\n",
    "    # Convert results to a DataFrame\n",
    "    results_df = pd.DataFrame(results, columns=['p', 'd', 'log_likelihood'])\n",
    "\n",
    "    # Find the best model\n",
    "    best_result = results_df.loc[results_df['log_likelihood'].idxmax()]\n",
    "    best_p = int(best_result['p'])\n",
    "    best_d = int(best_result['d'])\n",
    "    best_model = sm.tsa.ARIMA(train_data, order=(best_p, best_d, q)).fit()\n",
    "    print(best_model.summary())\n",
    "    \n",
    "    return best_model"
   ]
  },
  {
   "cell_type": "code",
   "execution_count": 22,
   "metadata": {},
   "outputs": [
    {
     "name": "stdout",
     "output_type": "stream",
     "text": [
      "                               SARIMAX Results                                \n",
      "==============================================================================\n",
      "Dep. Variable:        Emissions [MMT]   No. Observations:                  366\n",
      "Model:                 ARIMA(4, 1, 1)   Log Likelihood               -1260.634\n",
      "Date:                Tue, 11 Feb 2025   AIC                           2533.267\n",
      "Time:                        18:46:30   BIC                           2556.667\n",
      "Sample:                    01-01-1973   HQIC                          2542.567\n",
      "                         - 06-01-2003                                         \n",
      "Covariance Type:                  opg                                         \n",
      "==============================================================================\n",
      "                 coef    std err          z      P>|z|      [0.025      0.975]\n",
      "------------------------------------------------------------------------------\n",
      "ar.L1         -0.5904      0.093     -6.321      0.000      -0.773      -0.407\n",
      "ar.L2         -0.2838      0.040     -7.020      0.000      -0.363      -0.205\n",
      "ar.L3         -0.5700      0.062     -9.166      0.000      -0.692      -0.448\n",
      "ar.L4         -0.6080      0.057    -10.738      0.000      -0.719      -0.497\n",
      "ma.L1          0.4638      0.105      4.424      0.000       0.258       0.669\n",
      "sigma2        58.2158      3.891     14.962      0.000      50.590      65.842\n",
      "===================================================================================\n",
      "Ljung-Box (L1) (Q):                   0.87   Jarque-Bera (JB):                46.72\n",
      "Prob(Q):                              0.35   Prob(JB):                         0.00\n",
      "Heteroskedasticity (H):               3.66   Skew:                             0.27\n",
      "Prob(H) (two-sided):                  0.00   Kurtosis:                         4.67\n",
      "===================================================================================\n",
      "\n",
      "Warnings:\n",
      "[1] Covariance matrix calculated using the outer product of gradients (complex-step).\n"
     ]
    }
   ],
   "source": [
    "arima = grid_search_arima(train, range(0, 5), range(0, 5))"
   ]
  },
  {
   "cell_type": "code",
   "execution_count": null,
   "metadata": {},
   "outputs": [],
   "source": []
  }
 ],
 "metadata": {
  "kernelspec": {
   "display_name": ".venv",
   "language": "python",
   "name": "python3"
  },
  "language_info": {
   "codemirror_mode": {
    "name": "ipython",
    "version": 3
   },
   "file_extension": ".py",
   "mimetype": "text/x-python",
   "name": "python",
   "nbconvert_exporter": "python",
   "pygments_lexer": "ipython3",
   "version": "3.11.10"
  }
 },
 "nbformat": 4,
 "nbformat_minor": 2
}
